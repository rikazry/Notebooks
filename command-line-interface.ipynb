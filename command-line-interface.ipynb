{
 "metadata": {
  "name": "",
  "signature": "sha256:b0f706bf670720bdbe9a2e4a97f1b0cc94cac436a0bfc67045f9a17babea6d4f"
 },
 "nbformat": 3,
 "nbformat_minor": 0,
 "worksheets": [
  {
   "cells": [
    {
     "cell_type": "markdown",
     "metadata": {},
     "source": [
      "Command Line Interface\n",
      "======================\n",
      "\n",
      "*Rika's study notes*\n",
      "\n",
      "##Basics\n",
      "[JHU-DS-01DataScientistToolbox-02-03-CommandLineInterface](https://github.com/rikazry/courses/blob/master/01_DataScientistToolbox/02_03_commandLineInterface/index.md#cli-commands-1)\n",
      "\n",
      "##Reference\n",
      "* [JHU-DS-01DataScientistToolbox-02-03-CommandLineInterface](https://github.com/rikazry/courses/blob/master/01_DataScientistToolbox/02_03_commandLineInterface/index.md)"
     ]
    }
   ],
   "metadata": {}
  }
 ]
}