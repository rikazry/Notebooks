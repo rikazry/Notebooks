{
 "metadata": {
  "name": "",
  "signature": "sha256:53e5c981beb9c6e12c1a8da8f132a5e3b5e68bbe4fe60c5b746711f812a3ce66"
 },
 "nbformat": 3,
 "nbformat_minor": 0,
 "worksheets": [
  {
   "cells": [
    {
     "cell_type": "markdown",
     "metadata": {},
     "source": [
      "Git\n",
      "======================\n",
      "\n",
      "*Rika's study notes*\n",
      "\n",
      "##Basics\n",
      "* [Config](https://github.com/rikazry/courses/blob/master/01_DataScientistToolbox/02_04_02_installGitWindows/index.md#configure-username-and-email)\n",
      "* Create Repo\n",
      "    * [remote add to local](https://github.com/rikazry/courses/blob/master/01_DataScientistToolbox/02_06_01_createNewRepo/index.md#creating-a-local-copy-1)\n",
      "    * [clone forked to local](https://github.com/rikazry/courses/blob/master/01_DataScientistToolbox/02_06_02_forkRepo/index.md#clone-the-repo)\n",
      "* [Data Transport Commands](https://github.com/rikazry/courses/blob/master/01_DataScientistToolbox/02_07_01_basicGitCommands/index.md#pushing-and-pulling)\n",
      "\n",
      "##Reference\n",
      "* [JHU-DS-01DataScientistToolbox-02-04-02-InstallGitWindows](https://github.com/rikazry/courses/blob/master/01_DataScientistToolbox/02_04_02_installGitWindows/index.md)\n",
      "* [JHU-DS-01DataScientistToolbox-02-06-01-CreateNewRepo](https://github.com/rikazry/courses/blob/master/01_DataScientistToolbox/02_06_01_createNewRepo/index.md)\n",
      "* [JHU-DS-01DataScientistToolbox-02-06-02-ForkRepo](https://github.com/rikazry/courses/blob/master/01_DataScientistToolbox/02_06_02_forkRepo/index.md)\n",
      "* [JHU-DS-01DataScientistToolbox-02-07-01-BasicGitCommands](https://github.com/rikazry/courses/blob/master/01_DataScientistToolbox/02_07_01_basicGitCommands/index.md)"
     ]
    }
   ],
   "metadata": {}
  }
 ]
}