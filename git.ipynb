{
 "metadata": {
  "name": "",
  "signature": "sha256:e90736e00c19df77f2c58f332f50bbfa069ee9aecf0514c8425639eb9d326100"
 },
 "nbformat": 3,
 "nbformat_minor": 0,
 "worksheets": [
  {
   "cells": [
    {
     "cell_type": "markdown",
     "metadata": {},
     "source": [
      "Git\n",
      "======================\n",
      "\n",
      "*Rika's study notes*\n",
      "\n",
      "##Basics\n",
      "* [Config](https://github.com/rikazry/courses/blob/master/01_DataScientistToolbox/02_04_02_installGitWindows/index.md#configure-username-and-email)\n",
      "* Create Repo\n",
      "    * [remote add to local](https://github.com/rikazry/courses/blob/master/01_DataScientistToolbox/02_06_01_createNewRepo/index.md#creating-a-local-copy-1)\n",
      "    * [clone forked to local](https://github.com/rikazry/courses/blob/master/01_DataScientistToolbox/02_06_02_forkRepo/index.md#clone-the-repo)\n",
      "* [Data Transport Commands](https://github.com/rikazry/courses/blob/master/01_DataScientistToolbox/02_07_01_basicGitCommands/index.md#pushing-and-pulling)\n",
      "* [Git Work Flow](https://github.com/rikazry/courses/blob/master/01_DataScientistToolbox/02_07_02_gitWorkflow/index.md)\n",
      "\n",
      "##Reference\n",
      "* [JHU-DS-01DataScientistToolbox-02-04-02-InstallGitWindows](https://github.com/rikazry/courses/blob/master/01_DataScientistToolbox/02_04_02_installGitWindows/index.md)\n",
      "* [JHU-DS-01DataScientistToolbox-02-06-01-CreateNewRepo](https://github.com/rikazry/courses/blob/master/01_DataScientistToolbox/02_06_01_createNewRepo/index.md)\n",
      "* [JHU-DS-01DataScientistToolbox-02-06-02-ForkRepo](https://github.com/rikazry/courses/blob/master/01_DataScientistToolbox/02_06_02_forkRepo/index.md)\n",
      "* [JHU-DS-01DataScientistToolbox-02-07-01-BasicGitCommands](https://github.com/rikazry/courses/blob/master/01_DataScientistToolbox/02_07_01_basicGitCommands/index.md)\n",
      "* [JHU-DS-01DataScientistToolbox-02-07-02-GitWorkflow](https://github.com/rikazry/courses/blob/master/01_DataScientistToolbox/02_07_02_gitWorkflow/index.md)"
     ]
    }
   ],
   "metadata": {}
  }
 ]
}