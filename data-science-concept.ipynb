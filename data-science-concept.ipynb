{
 "metadata": {
  "name": "",
  "signature": "sha256:577d58186605c9547d92da2e5adf806f3e2854a7932238b1332f59009d205428"
 },
 "nbformat": 3,
 "nbformat_minor": 0,
 "worksheets": [
  {
   "cells": [
    {
     "cell_type": "markdown",
     "metadata": {},
     "source": [
      "Data Science Concept\n",
      "======================\n",
      "\n",
      "*Rika's study notes*\n",
      "![DS-pie](https://raw.githubusercontent.com/rikazry/courses/master/assets/img/01_DataScientistToolbox/venn.png)\n",
      "\n",
      "## What do data scientists do? \n",
      "\n",
      "* Define the question\n",
      "* Define the ideal data set\n",
      "    * The data set may depend on your goal\n",
      "        * Descriptive - a whole population\n",
      "        * Exploratory - a random sample with many variables measured\n",
      "        * Inferential - the right population, randomly sampled\n",
      "        * Predictive - a training and test data set from the same population\n",
      "        * Causal - data from a randomized study\n",
      "        * Mechanistic - data about all components of the system\n",
      "* Determine what data you can access\n",
      "* Obtain and clean data\n",
      "    * [JHU-DS-01DataScientistToolbox-01-05-GettingData](https://github.com/rikazry/courses/blob/master/01_DataScientistToolbox/01_05_gettingData/index.md)\n",
      "* Exploratory data analysis\n",
      "    * [JHU-DS-01DataScientistToolbox-01-06-ExploratoryAnalysis](https://github.com/rikazry/courses/blob/master/01_DataScientistToolbox/01_06_exploratoryAnalysis/index.md)\n",
      "* Statistical Inference\n",
      "    * Basic probability\n",
      "    * Likelihood\n",
      "    * Common distributions\n",
      "    * Asymptotics\n",
      "    * Confidence intervals\n",
      "    * Hypothesis tests\n",
      "    * Power\n",
      "    * Bootstrapping\n",
      "        * [sample R code](https://github.com/rikazry/courses/blob/master/01_DataScientistToolbox/01_08_statisticalInference/index.md#example-bootstrap-code)\n",
      "    * Non-parametric tests\n",
      "    * Basic bayesian statistics\n",
      "* Statistical prediction/modeling\n",
      "    * [JHU-DS-01DataScientistToolbox-01-10-PracticalMachineLearning](https://github.com/rikazry/courses/blob/master/01_DataScientistToolbox/01_10_practicalMachineLearning/index.md)\n",
      "* Interpret results\n",
      "* Challenge results\n",
      "* Synthesize/write up results\n",
      "* Create reproducible code\n",
      "* Distribute results to other people\n",
      "\n",
      "##Reference\n",
      "* [JHU-DS-01DataScientistToolbox-01-01-Motivation](https://github.com/rikazry/courses/blob/master/01_DataScientistToolbox/01_01_seriesMotivation/index.md)\n",
      "* [JHU-DS-01DataScientistToolbox-01-01a-Overview](https://github.com/rikazry/courses/blob/master/01_DataScientistToolbox/01_01a_toolBoxOverview/index.md)\n",
      "* [JHU-DS-01DataScientistToolbox-01-07-ReproducibleResearch](https://github.com/rikazry/courses/blob/master/01_DataScientistToolbox/01_07_reproducibleResearch/index.md)\n",
      "* [JHU-DS-01DataScientistToolbox-01-08-StatisticalInference](https://github.com/rikazry/courses/blob/master/01_DataScientistToolbox/01_08_statisticalInference/index.md#example-bootstrap-code)"
     ]
    }
   ],
   "metadata": {}
  }
 ]
}