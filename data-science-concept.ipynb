{
 "metadata": {
  "name": "",
  "signature": "sha256:390cab033b7c24ef1ec6e05c862dbcb17890e17e711ba93001d331dae50ac119"
 },
 "nbformat": 3,
 "nbformat_minor": 0,
 "worksheets": [
  {
   "cells": [
    {
     "cell_type": "markdown",
     "metadata": {},
     "source": [
      "Data Science Concept\n",
      "======================\n",
      "\n",
      "*Rika's study notes*\n",
      "![DS-pie](https://raw.githubusercontent.com/rikazry/courses/master/assets/img/01_DataScientistToolbox/venn.png)\n",
      "\n",
      "## What do data scientists do? \n",
      "\n",
      "* Define the question\n",
      "    * [Types of Questions](https://github.com/rikazry/courses/blob/master/01_DataScientistToolbox/03_01_typesOfQuestions/index.md)\n",
      "* Define the ideal data set\n",
      "    * [What is data](https://github.com/rikazry/courses/blob/master/01_DataScientistToolbox/03_02_whatIsData/index.md)\n",
      "    * The data set may depend on your goal\n",
      "        * Descriptive - a whole population\n",
      "        * Exploratory - a random sample with many variables measured\n",
      "        * Inferential - the right population, randomly sampled\n",
      "        * Predictive - a training and test data set from the same population\n",
      "        * Causal - data from a randomized study\n",
      "        * Mechanistic - data about all components of the system\n",
      "    * [Big Data](https://github.com/rikazry/courses/blob/master/01_DataScientistToolbox/03_03_whatAboutBigData/index.md)\n",
      "    * [Experimental Design](https://github.com/rikazry/courses/tree/master/01_DataScientistToolbox/03_04_experimentalDesign)\n",
      "* Determine what data you can access\n",
      "* Obtain and clean data\n",
      "    * [JHU-DS-01DataScientistToolbox-01-05-GettingData](https://github.com/rikazry/courses/blob/master/01_DataScientistToolbox/01_05_gettingData/index.md)\n",
      "* Exploratory data analysis\n",
      "    * [JHU-DS-01DataScientistToolbox-01-06-ExploratoryAnalysis](https://github.com/rikazry/courses/blob/master/01_DataScientistToolbox/01_06_exploratoryAnalysis/index.md)\n",
      "* Statistical Inference\n",
      "    * Basic probability\n",
      "    * Likelihood\n",
      "    * Common distributions\n",
      "    * Asymptotics\n",
      "    * Confidence intervals\n",
      "    * Hypothesis tests\n",
      "    * Power\n",
      "    * Bootstrapping\n",
      "        * [sample R code](https://github.com/rikazry/courses/blob/master/01_DataScientistToolbox/01_08_statisticalInference/index.md#example-bootstrap-code)\n",
      "    * Non-parametric tests\n",
      "    * Basic bayesian statistics\n",
      "* Statistical prediction/modeling\n",
      "    * [JHU-DS-01DataScientistToolbox-01-10-PracticalMachineLearning](https://github.com/rikazry/courses/blob/master/01_DataScientistToolbox/01_10_practicalMachineLearning/index.md)\n",
      "* Interpret results\n",
      "* Challenge results\n",
      "* Synthesize/write up results\n",
      "* Create reproducible code\n",
      "* Distribute results to other people\n",
      "\n",
      "##Reference\n",
      "* [JHU-DS-01DataScientistToolbox-01-01-Motivation](https://github.com/rikazry/courses/blob/master/01_DataScientistToolbox/01_01_seriesMotivation/index.md)\n",
      "* [JHU-DS-01DataScientistToolbox-01-01a-Overview](https://github.com/rikazry/courses/blob/master/01_DataScientistToolbox/01_01a_toolBoxOverview/index.md)\n",
      "* [JHU-DS-01DataScientistToolbox-01-07-ReproducibleResearch](https://github.com/rikazry/courses/blob/master/01_DataScientistToolbox/01_07_reproducibleResearch/index.md)\n",
      "* [JHU-DS-01DataScientistToolbox-01-08-StatisticalInference](https://github.com/rikazry/courses/blob/master/01_DataScientistToolbox/01_08_statisticalInference/index.md#example-bootstrap-code)\n",
      "* [JHU-DS-01DataScientistToolbox-03-01-TypesOfQuestions](https://github.com/rikazry/courses/blob/master/01_DataScientistToolbox/03_01_typesOfQuestions/index.md)\n",
      "* [JHU-DS-01DataScientistToolbox-03-02-WhatIsData](https://github.com/rikazry/courses/blob/master/01_DataScientistToolbox/03_02_whatIsData/index.md)\n",
      "* [JHU-DS-01DataScientistToolbox-03-03-WhatAboutBigData](https://github.com/rikazry/courses/blob/master/01_DataScientistToolbox/03_03_whatAboutBigData/index.md)\n",
      "* [JHU-DS-01DataScientistToolbox-03-04-ExperimentalDesign](https://github.com/rikazry/courses/tree/master/01_DataScientistToolbox/03_04_experimentalDesign)"
     ]
    }
   ],
   "metadata": {}
  }
 ]
}