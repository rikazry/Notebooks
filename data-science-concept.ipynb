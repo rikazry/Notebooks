{
 "metadata": {
  "name": "",
  "signature": "sha256:b6e78c2e1e9af839d0d12af4cd71f82898a43be69694a2905aba51f5d3e9fa3c"
 },
 "nbformat": 3,
 "nbformat_minor": 0,
 "worksheets": [
  {
   "cells": [
    {
     "cell_type": "markdown",
     "metadata": {},
     "source": [
      "Data Science Concept\n",
      "======================\n",
      "\n",
      "*Rika's study notes*\n",
      "![DS-pie](https://raw.githubusercontent.com/rikazry/courses/master/assets/img/01_DataScientistToolbox/venn.png)\n",
      "\n",
      "## What do data scientists do? \n",
      "\n",
      "* Define the question\n",
      "* Define the ideal data set\n",
      "* Determine what data you can access\n",
      "* Obtain the data\n",
      "* Clean the data\n",
      "* Exploratory data analysis\n",
      "* Statistical prediction/modeling\n",
      "* Interpret results\n",
      "* Challenge results\n",
      "* Synthesize/write up results\n",
      "* Create reproducible code\n",
      "* Distribute results to other people\n",
      "\n",
      "##Reference\n",
      "* [JHU-DS-01DataScientistToolbox-01Motivation](https://github.com/rikazry/courses/blob/master/01_DataScientistToolbox/01_01_seriesMotivation/index.md)\n",
      "* [JHU-DS-01DataScientistToolbox-01aOverview](https://github.com/rikazry/courses/blob/master/01_DataScientistToolbox/01_01a_toolBoxOverview/index.md)"
     ]
    }
   ],
   "metadata": {}
  }
 ]
}