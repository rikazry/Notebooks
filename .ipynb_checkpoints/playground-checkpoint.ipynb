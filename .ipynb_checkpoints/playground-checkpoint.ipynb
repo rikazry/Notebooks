{
 "metadata": {
  "name": "",
  "signature": "sha256:8d0c7d04c691648b2001a1645e10999395ad78a351e21999d4073e0514af23db"
 },
 "nbformat": 3,
 "nbformat_minor": 0,
 "worksheets": [
  {
   "cells": [
    {
     "cell_type": "markdown",
     "metadata": {},
     "source": [
      "A Notebook Quick Start\n",
      "======================\n",
      "\n",
      "*Rika's study notes*\n",
      "\n",
      "\n",
      "\n",
      "## 1. Markdown Quick Reference [header 2]:\n",
      "\n",
      "### Headers [header 3]:\n",
      "#### closing hash marks are optional for header [header 4] ####\n",
      "###### supports up to 6 levels/ hash marks [header 6]\n",
      "### Definition:\n",
      "> This is how it works\n",
      "\n",
      "### Code Block:\n",
      "```\n",
      "print 'hello world'\n",
      "print 'how are you'\n",
      "```\n",
      "### Code Syntax Highlight:\n",
      "```python\n",
      "print 'hello world'\n",
      "``` \n",
      "### Tips:\n",
      "- new line needs to be explicite, otherwise:\n",
      "This is a new line in edit mode.\n",
      "\n",
      "This is another new line in edit mode with prevaling empty line.\n",
      "\n",
      "\n",
      "## 2. Ipython Notebook Quick Reference: \n",
      "\n",
      "- ctrl-enter: run cell inplace\n",
      "- shift-enter: run cell, jump to next cell below\n",
      "- alt-enter: run cell, insert cell below\n",
      "- esc: command mode (easy to navigate)\n",
      "- k: navigate up\n",
      "- j: navigate down\n",
      "- dd: delete cell\n",
      "- enter: edit mode\n",
      "- tab: conde completion\n",
      "- ? run: help doc\n",
      "- ctrl-m h: keyboard shortcut doc"
     ]
    }
   ],
   "metadata": {}
  }
 ]
}