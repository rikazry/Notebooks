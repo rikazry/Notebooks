{
 "metadata": {
  "name": "",
  "signature": "sha256:00d78dbaec2c1884015efe1cdeadb77b913987bb1e26104c6b00f9500e401b2e"
 },
 "nbformat": 3,
 "nbformat_minor": 0,
 "worksheets": [
  {
   "cells": [
    {
     "cell_type": "markdown",
     "metadata": {},
     "source": [
      "R Basics\n",
      "======================\n",
      "\n",
      "*Rika's study notes*\n",
      "\n",
      "##Basics\n",
      "* [Install & Load Package](https://github.com/rikazry/courses/blob/master/01_DataScientistToolbox/02_09_installingRPackages/index.md)\n",
      "* [Data Types](https://github.com/rikazry/courses/blob/master/02_RProgramming/DataTypes/index.md)\n",
      "* Reading data\n",
      "    * [Reading tabular data & large tables](https://github.com/rikazry/courses/blob/master/02_RProgramming/reading_data_I/index.md)\n",
      "    * [Textual data & outwards interfaces](https://github.com/rikazry/courses/blob/master/02_RProgramming/reading_data_II/index.md)\n",
      "* [Subsetting](https://github.com/rikazry/courses/blob/master/02_RProgramming/Subsetting/index.md)\n",
      "* [Vectorized Operation](https://github.com/rikazry/courses/blob/master/02_RProgramming/Vectorized/index.md)\n",
      "\n",
      "##Dev Tools\n",
      "* [Rtools](https://github.com/rikazry/courses/blob/master/01_DataScientistToolbox/02_10_rtools/index.md)\n",
      "\n",
      "##Reference\n",
      "* [JHU-DS-01DataScientistToolbox-02-09-InstallingRPackages](https://github.com/rikazry/courses/blob/master/01_DataScientistToolbox/02_09_installingRPackages/index.md)\n",
      "* [JHU-DS-01DataScientistToolbox-02-10-Rtools](https://github.com/rikazry/courses/blob/master/01_DataScientistToolbox/02_10_rtools/index.md)\n",
      "* [JHU-DS-02-RProgramming-DataTypes](https://github.com/rikazry/courses/blob/master/02_RProgramming/DataTypes/index.md)\n",
      "* [JHU-DS-02-RProgramming-ReadingDataI](https://github.com/rikazry/courses/blob/master/02_RProgramming/reading_data_I/index.md)\n",
      "* [JHU-DS-02-RProgramming-ReadingDataII](https://github.com/rikazry/courses/blob/master/02_RProgramming/reading_data_II/index.md)\n",
      "* [JHU-DS-02-RProgramming-Subsetting](https://github.com/rikazry/courses/blob/master/02_RProgramming/Subsetting/index.md)\n",
      "* [JHU-DS-02-RProgramming-Vectorized](https://github.com/rikazry/courses/blob/master/02_RProgramming/Vectorized/index.md)"
     ]
    }
   ],
   "metadata": {}
  }
 ]
}