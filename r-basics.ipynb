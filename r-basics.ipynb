{
 "metadata": {
  "name": "",
  "signature": "sha256:0e800d33e9cfaeb334985b03f33dd73230a7e3598b0421a24af49cb826ecde64"
 },
 "nbformat": 3,
 "nbformat_minor": 0,
 "worksheets": [
  {
   "cells": [
    {
     "cell_type": "markdown",
     "metadata": {},
     "source": [
      "R Basics\n",
      "======================\n",
      "\n",
      "*Rika's study notes*\n",
      "\n",
      "##Basics\n",
      "* [Install & Load Package](https://github.com/rikazry/courses/blob/master/01_DataScientistToolbox/02_09_installingRPackages/index.md)\n",
      "\n",
      "##Dev Tools\n",
      "* [Rtools](https://github.com/rikazry/courses/blob/master/01_DataScientistToolbox/02_10_rtools/index.md)\n",
      "\n",
      "##Reference\n",
      "* [JHU-DS-01DataScientistToolbox-02-09-InstallingRPackages](https://github.com/rikazry/courses/blob/master/01_DataScientistToolbox/02_09_installingRPackages/index.md)\n",
      "* [JHU-DS-01DataScientistToolbox-02-10-Rtools](https://github.com/rikazry/courses/blob/master/01_DataScientistToolbox/02_10_rtools/index.md)\n"
     ]
    }
   ],
   "metadata": {}
  }
 ]
}