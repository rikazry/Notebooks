{
 "metadata": {
  "name": "",
  "signature": "sha256:54fa92508e9a4f83cd4b6855b9d848db77d72afa41e6a7ae85c90a45c0df7518"
 },
 "nbformat": 3,
 "nbformat_minor": 0,
 "worksheets": [
  {
   "cells": [
    {
     "cell_type": "markdown",
     "metadata": {},
     "source": [
      "R Basics\n",
      "======================\n",
      "\n",
      "*Rika's study notes*\n",
      "\n",
      "##Basics\n",
      "* Coding Standards\n",
      "    * Always use text files / text editor\n",
      "    * Indent your code\n",
      "    * Limit the width of your code (80 columns?)\n",
      "    * Limit the length of individual functions\n",
      "* [Install & Load Package](https://github.com/rikazry/courses/blob/master/01_DataScientistToolbox/02_09_installingRPackages/index.md)\n",
      "* [Data Types](https://github.com/rikazry/courses/blob/master/02_RProgramming/DataTypes/index.md)\n",
      "* Reading data\n",
      "    * [Reading tabular data & large tables](https://github.com/rikazry/courses/blob/master/02_RProgramming/reading_data_I/index.md)\n",
      "    * [Textual data & outwards interfaces](https://github.com/rikazry/courses/blob/master/02_RProgramming/reading_data_II/index.md)\n",
      "* [Subsetting](https://github.com/rikazry/courses/blob/master/02_RProgramming/Subsetting/index.md)\n",
      "* [Vectorized Operation](https://github.com/rikazry/courses/blob/master/02_RProgramming/Vectorized/index.md)\n",
      "* [Control Structures](https://github.com/rikazry/courses/blob/master/02_RProgramming/ControlStructures/index.md)\n",
      "* [Functions](https://github.com/rikazry/courses/blob/master/02_RProgramming/functions/index.md)\n",
      "* [Scoping](https://github.com/rikazry/courses/blob/master/02_RProgramming/Scoping/index.md)\n",
      "* [Dates](https://github.com/rikazry/courses/blob/master/02_RProgramming/Dates/index.md)\n",
      "\n",
      "##Dev Tools\n",
      "* [Rtools](https://github.com/rikazry/courses/blob/master/01_DataScientistToolbox/02_10_rtools/index.md)\n",
      "\n",
      "##Reference\n",
      "* [JHU-DS-01DataScientistToolbox-02-09-InstallingRPackages](https://github.com/rikazry/courses/blob/master/01_DataScientistToolbox/02_09_installingRPackages/index.md)\n",
      "* [JHU-DS-01DataScientistToolbox-02-10-Rtools](https://github.com/rikazry/courses/blob/master/01_DataScientistToolbox/02_10_rtools/index.md)\n",
      "* [JHU-DS-02-RProgramming-DataTypes](https://github.com/rikazry/courses/blob/master/02_RProgramming/DataTypes/index.md)\n",
      "* [JHU-DS-02-RProgramming-ReadingDataI](https://github.com/rikazry/courses/blob/master/02_RProgramming/reading_data_I/index.md)\n",
      "* [JHU-DS-02-RProgramming-ReadingDataII](https://github.com/rikazry/courses/blob/master/02_RProgramming/reading_data_II/index.md)\n",
      "* [JHU-DS-02-RProgramming-Subsetting](https://github.com/rikazry/courses/blob/master/02_RProgramming/Subsetting/index.md)\n",
      "* [JHU-DS-02-RProgramming-Vectorized](https://github.com/rikazry/courses/blob/master/02_RProgramming/Vectorized/index.md)\n",
      "* [JHU-DS-02-RProgramming-ControlStructures](https://github.com/rikazry/courses/blob/master/02_RProgramming/ControlStructures/index.md)\n",
      "* [JHU-DS-02-RProgramming-Functions](https://github.com/rikazry/courses/blob/master/02_RProgramming/functions/index.md)\n",
      "* [JHU-DS-02-RProgramming-Scoping](https://github.com/rikazry/courses/blob/master/02_RProgramming/Scoping/index.md)\n",
      "* [JHU-DS-02-RProgramming-CodingStandard](https://github.com/rikazry/courses/blob/master/02_RProgramming/CodingStandard/index.md)\n",
      "* [JHU-DS-02-RProgramming-Dates](https://github.com/rikazry/courses/blob/master/02_RProgramming/Dates/index.md)"
     ]
    }
   ],
   "metadata": {}
  }
 ]
}