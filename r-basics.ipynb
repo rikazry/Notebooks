{
 "metadata": {
  "name": "",
  "signature": "sha256:10c20b34ed49b309e5a9a2135a55f2bafa232195c5af4a2e82dbda68d6d9cdef"
 },
 "nbformat": 3,
 "nbformat_minor": 0,
 "worksheets": [
  {
   "cells": [
    {
     "cell_type": "markdown",
     "metadata": {},
     "source": [
      "R Basics\n",
      "======================\n",
      "\n",
      "*Rika's study notes*\n",
      "\n",
      "##Basics\n",
      "* Coding Standards\n",
      "    * Always use text files / text editor\n",
      "    * Indent your code\n",
      "    * Limit the width of your code (80 columns?)\n",
      "    * Limit the length of individual functions\n",
      "* [Debugging](https://github.com/rikazry/courses/blob/master/02_RProgramming/debugging/index.md)\n",
      "* [Install & Load Package](https://github.com/rikazry/courses/blob/master/01_DataScientistToolbox/02_09_installingRPackages/index.md)\n",
      "* [Data Types](https://github.com/rikazry/courses/blob/master/02_RProgramming/DataTypes/index.md)\n",
      "* Reading data\n",
      "    * [Reading tabular data & large tables](https://github.com/rikazry/courses/blob/master/02_RProgramming/reading_data_I/index.md)\n",
      "        * [data table FAQ pdf](http://datatable.r-forge.r-project.org/datatable-faq.pdf)\n",
      "    * [Textual data & outwards interfaces](https://github.com/rikazry/courses/blob/master/02_RProgramming/reading_data_II/index.md)\n",
      "* [Subsetting](https://github.com/rikazry/courses/blob/master/02_RProgramming/Subsetting/index.md)\n",
      "* [Vectorized Operation](https://github.com/rikazry/courses/blob/master/02_RProgramming/Vectorized/index.md)\n",
      "* [Control Structures](https://github.com/rikazry/courses/blob/master/02_RProgramming/ControlStructures/index.md)\n",
      "* [Functions](https://github.com/rikazry/courses/blob/master/02_RProgramming/functions/index.md)\n",
      "* [Scoping](https://github.com/rikazry/courses/blob/master/02_RProgramming/Scoping/index.md)\n",
      "* [Dates](https://github.com/rikazry/courses/blob/master/02_RProgramming/Dates/index.md)\n",
      "* Loop Functions (apply)\n",
      "    * [lapply & sapply](https://github.com/rikazry/courses/blob/master/02_RProgramming/lapply/index.md)\n",
      "    * [apply](https://github.com/rikazry/courses/blob/master/02_RProgramming/apply/index.md)\n",
      "    * [mapply](https://github.com/rikazry/courses/blob/master/02_RProgramming/mapply/index.md)\n",
      "    * [tapply & split](https://github.com/rikazry/courses/blob/master/02_RProgramming/tapply/index.md)\n",
      "* [Simulation](https://github.com/rikazry/courses/blob/master/02_RProgramming/simulation/index.md)\n",
      "* [Profiler](https://github.com/rikazry/courses/blob/master/02_RProgramming/profiler/index.md)\n",
      "\n",
      "##Dev Tools\n",
      "* [Rtools](https://github.com/rikazry/courses/blob/master/01_DataScientistToolbox/02_10_rtools/index.md)\n",
      "\n",
      "##Reference\n",
      "* [JHU-DS-01DataScientistToolbox-02-09-InstallingRPackages](https://github.com/rikazry/courses/blob/master/01_DataScientistToolbox/02_09_installingRPackages/index.md)\n",
      "* [JHU-DS-01DataScientistToolbox-02-10-Rtools](https://github.com/rikazry/courses/blob/master/01_DataScientistToolbox/02_10_rtools/index.md)\n",
      "* [JHU-DS-02-RProgramming-DataTypes](https://github.com/rikazry/courses/blob/master/02_RProgramming/DataTypes/index.md)\n",
      "* [JHU-DS-02-RProgramming-ReadingDataI](https://github.com/rikazry/courses/blob/master/02_RProgramming/reading_data_I/index.md)\n",
      "* [JHU-DS-02-RProgramming-ReadingDataII](https://github.com/rikazry/courses/blob/master/02_RProgramming/reading_data_II/index.md)\n",
      "* [JHU-DS-02-RProgramming-Subsetting](https://github.com/rikazry/courses/blob/master/02_RProgramming/Subsetting/index.md)\n",
      "* [JHU-DS-02-RProgramming-Vectorized](https://github.com/rikazry/courses/blob/master/02_RProgramming/Vectorized/index.md)\n",
      "* [JHU-DS-02-RProgramming-ControlStructures](https://github.com/rikazry/courses/blob/master/02_RProgramming/ControlStructures/index.md)\n",
      "* [JHU-DS-02-RProgramming-Functions](https://github.com/rikazry/courses/blob/master/02_RProgramming/functions/index.md)\n",
      "* [JHU-DS-02-RProgramming-Scoping](https://github.com/rikazry/courses/blob/master/02_RProgramming/Scoping/index.md)\n",
      "* [JHU-DS-02-RProgramming-CodingStandard](https://github.com/rikazry/courses/blob/master/02_RProgramming/CodingStandard/index.md)\n",
      "* [JHU-DS-02-RProgramming-Dates](https://github.com/rikazry/courses/blob/master/02_RProgramming/Dates/index.md)\n",
      "* [JHU-DS-02-RProgramming-lapply](https://github.com/rikazry/courses/blob/master/02_RProgramming/lapply/index.md)\n",
      "* [JHU-DS-02-RProgramming-apply](https://github.com/rikazry/courses/blob/master/02_RProgramming/apply/index.md)\n",
      "* [JHU-DS-02-RProgramming-mapply](https://github.com/rikazry/courses/blob/master/02_RProgramming/mapply/index.md)\n",
      "* [JHU-DS-02-RProgramming-tapply](https://github.com/rikazry/courses/blob/master/02_RProgramming/tapply/index.md)\n",
      "* [JHU-DS-02-RProgramming-Debugging](https://github.com/rikazry/courses/blob/master/02_RProgramming/debugging/index.md)\n",
      "* [JHU-DS-02-RProgramming-Simulation](https://github.com/rikazry/courses/blob/master/02_RProgramming/simulation/index.md)\n",
      "* [JHU-DS-02-RProgramming-Profiler](https://github.com/rikazry/courses/blob/master/02_RProgramming/profiler/index.md)"
     ]
    }
   ],
   "metadata": {}
  }
 ]
}