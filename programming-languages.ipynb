{
 "metadata": {
  "name": "",
  "signature": "sha256:0f76887738c2ab5aae7d9611c7488af4e4f0f18782364867e50c390791f2bb81"
 },
 "nbformat": 3,
 "nbformat_minor": 0,
 "worksheets": [
  {
   "cells": [
    {
     "cell_type": "markdown",
     "metadata": {},
     "source": [
      "Comparing Different Programming Languages\n",
      "======================\n",
      "\n",
      "*Rika's study notes*\n",
      "##R\n",
      "* free\n",
      "* comprehensive set of packages\n",
      "  * Data access\n",
      "  * Data cleaning\n",
      "  * Analysis\n",
      "  * Data reporting\n",
      "* one of the best development environments - Rstudio [http://www.rstudio.com/](http://www.rstudio.com/)\n",
      "* amazing ecosystem of developers\n",
      "* Packages are easy to install and \"play nicely together\"\n",
      "\n",
      "__R reference card__\n",
      "\n",
      "[http://cran.r-project.org/doc/contrib/Short-refcard.pdf](http://cran.r-project.org/doc/contrib/Short-refcard.pdf)\n",
      "##Reference\n",
      "* [JHU-DS-01DataScientistToolbox-01Motivation](https://github.com/rikazry/courses/blob/master/01_DataScientistToolbox/01_01_seriesMotivation/index.md)"
     ]
    }
   ],
   "metadata": {}
  }
 ]
}