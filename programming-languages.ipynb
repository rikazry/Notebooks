{
 "metadata": {
  "name": "",
  "signature": "sha256:c71a96193720595d559e51b27a3b4d40fe2068a8eccf4203f733b5bac82d0224"
 },
 "nbformat": 3,
 "nbformat_minor": 0,
 "worksheets": [
  {
   "cells": [
    {
     "cell_type": "markdown",
     "metadata": {},
     "source": [
      "Comparing Different Programming Languages\n",
      "======================\n",
      "\n",
      "*Rika's study notes*\n",
      "##R\n",
      "* free\n",
      "* comprehensive set of packages\n",
      "  * Data access\n",
      "  * Data cleaning\n",
      "  * Analysis\n",
      "  * Data reporting\n",
      "* one of the best development environments - Rstudio [http://www.rstudio.com/](http://www.rstudio.com/)\n",
      "* amazing ecosystem of developers\n",
      "* Packages are easy to install and \"play nicely together\"\n",
      "\n",
      "##Reference\n",
      "* [JHU-DS-01DataScientistToolbox-01Motivation](https://github.com/rikazry/courses/blob/master/01_DataScientistToolbox/01_01_seriesMotivation/index.md)"
     ]
    }
   ],
   "metadata": {}
  }
 ]
}