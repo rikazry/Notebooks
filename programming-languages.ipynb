{
 "metadata": {
  "name": "",
  "signature": "sha256:9ed7938988ccf05bbce42d542b803fda94916736b907bb44f76bc2591b2537de"
 },
 "nbformat": 3,
 "nbformat_minor": 0,
 "worksheets": [
  {
   "cells": [
    {
     "cell_type": "markdown",
     "metadata": {},
     "source": [
      "Comparing Different Programming Languages\n",
      "======================\n",
      "\n",
      "*Rika's study notes*\n",
      "##R\n",
      "* free\n",
      "* comprehensive set of packages\n",
      "  * Data access\n",
      "  * Data cleaning\n",
      "  * Analysis\n",
      "  * Data reporting\n",
      "* one of the best development environments - Rstudio [http://www.rstudio.com/](http://www.rstudio.com/)\n",
      "* amazing ecosystem of developers\n",
      "* Packages are easy to install and \"play nicely together\"\n",
      "\n",
      "#### [R History, Overview and Resources](https://github.com/rikazry/courses/blob/master/02_RProgramming/OverviewHistoryR/index.md)\n",
      "__R reference card__\n",
      "\n",
      "* [http://cran.r-project.org/doc/contrib/Short-refcard.pdf](http://cran.r-project.org/doc/contrib/Short-refcard.pdf)\n",
      "##Reference\n",
      "* [JHU-DS-01DataScientistToolbox-01Motivation](https://github.com/rikazry/courses/blob/master/01_DataScientistToolbox/01_01_seriesMotivation/index.md)\n",
      "* [JHU-DS-02-RProgramming-OverviewHistoryR](https://github.com/rikazry/courses/blob/master/02_RProgramming/OverviewHistoryR/index.md)"
     ]
    }
   ],
   "metadata": {}
  }
 ]
}